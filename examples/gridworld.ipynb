{
 "cells": [
  {
   "cell_type": "markdown",
   "metadata": {},
   "source": [
    "# Example: gridworld\n",
    "\n",
    "An agent is tasked with reaching a target in a gridworld with potentially dangerous areas"
   ]
  },
  {
   "cell_type": "code",
   "execution_count": 1,
   "metadata": {
    "pycharm": {
     "is_executing": false
    }
   },
   "outputs": [],
   "source": [
    "import numpy as np\n",
    "import scipy.sparse as sp\n",
    "import matplotlib.pyplot as plt\n",
    "\n",
    "from best.models.pomdp import POMDP, POMDPNetwork\n",
    "from best.solvers.valiter import solve_ltl_cosafe\n",
    "from best.logic.translate import formula_to_logic"
   ]
  },
  {
   "cell_type": "markdown",
   "metadata": {},
   "source": [
    "### Define two label MDPs"
   ]
  },
  {
   "cell_type": "code",
   "execution_count": 2,
   "metadata": {
    "pycharm": {
     "is_executing": false
    }
   },
   "outputs": [
    {
     "name": "stdout",
     "text": [
      "MDP: (2,) inputs ('meas1',) --> 3 states label1 --> 3 outputs label1\nMDP: (2,) inputs ('meas2',) --> 3 states label2 --> 3 outputs label2\n"
     ],
     "output_type": "stream"
    }
   ],
   "source": [
    "T0 = np.eye(3)\n",
    "T1 = np.array([[0,0.5,0.5], [0,1,0], [0,0,1]])\n",
    "\n",
    "output_fcn = lambda n: {0: 'init', 1: 'safe', 2: 'únsafe'}[n]\n",
    "    \n",
    "map1 = POMDP([T0, T1], input_names=['meas1'], output_trans=output_fcn, state_name='label1')\n",
    "map2 = POMDP([T0, T1], input_names=['meas2'], output_trans=output_fcn, state_name='label2')\n",
    "\n",
    "print(map1)\n",
    "print(map2)"
   ]
  },
  {
   "cell_type": "markdown",
   "metadata": {},
   "source": [
    "### Define gridworld system MDP"
   ]
  },
  {
   "cell_type": "code",
   "execution_count": 3,
   "metadata": {
    "pycharm": {
     "is_executing": false
    }
   },
   "outputs": [
    {
     "name": "stdout",
     "text": [
      "MDP: (4,) inputs ('dir',) --> 8 states s --> 8 outputs s\n"
     ],
     "output_type": "stream"
    }
   ],
   "source": [
    "# gridworld mdp\n",
    "l_x = 4  # x length\n",
    "l_y = 2  # y length\n",
    "\n",
    "T_start = [np.ravel_multi_index( (i,j), (l_x, l_y)) for i in range(l_x) for j in range(l_y)]\n",
    "\n",
    "Tn_end = [np.ravel_multi_index( (i, max(0, j-1)), (l_x, l_y))     for i in range(l_x) for j in range(l_y)]\n",
    "Ts_end = [np.ravel_multi_index( (i, min(l_y-1, j+1)), (l_x, l_y)) for i in range(l_x) for j in range(l_y)]\n",
    "Te_end = [np.ravel_multi_index( (min(l_x-1, i+1), j), (l_x, l_y)) for i in range(l_x) for j in range(l_y)]\n",
    "Tw_end = [np.ravel_multi_index( (max(0, i-1), j), (l_x, l_y))     for i in range(l_x) for j in range(l_y)]\n",
    "\n",
    "Tn = sp.coo_matrix((np.ones(l_x*l_y), (T_start, Tn_end)), shape=(l_x*l_y, l_x*l_y))\n",
    "Ts = sp.coo_matrix((np.ones(l_x*l_y), (T_start, Ts_end)), shape=(l_x*l_y, l_x*l_y))\n",
    "Te = sp.coo_matrix((np.ones(l_x*l_y), (T_start, Te_end)), shape=(l_x*l_y, l_x*l_y))\n",
    "Tw = sp.coo_matrix((np.ones(l_x*l_y), (T_start, Tw_end)), shape=(l_x*l_y, l_x*l_y))\n",
    "\n",
    "syst_mdp = POMDP([Tn, Ts, Te, Tw], input_names=['dir'], state_name='s')\n",
    "\n",
    "print(syst_mdp)"
   ]
  },
  {
   "cell_type": "markdown",
   "metadata": {},
   "source": [
    "### Connect system and labels"
   ]
  },
  {
   "cell_type": "code",
   "execution_count": 4,
   "metadata": {
    "pycharm": {
     "is_executing": false
    }
   },
   "outputs": [
    {
     "name": "stderr",
     "text": [
      "/anaconda/envs/mdp36/lib/python3.6/site-packages/networkx/drawing/nx_pylab.py:579: MatplotlibDeprecationWarning: \nThe iterable function was deprecated in Matplotlib 3.1 and will be removed in 3.3. Use np.iterable instead.\n  if not cb.iterable(width):\n/anaconda/envs/mdp36/lib/python3.6/site-packages/networkx/drawing/nx_pylab.py:676: MatplotlibDeprecationWarning: \nThe iterable function was deprecated in Matplotlib 3.1 and will be removed in 3.3. Use np.iterable instead.\n  if cb.iterable(node_size):  # many node sizes\n"
     ],
     "output_type": "stream"
    },
    {
     "name": "stdout",
     "text": [
      "MDP network: (4,) inputs ('dir',), (8, 3, 3) states ('s', 'label1', 'label2'), (8, 3, 3) outputs ('s', 'label1', 'label2')\n"
     ],
     "output_type": "stream"
    },
    {
     "data": {
      "text/plain": "<Figure size 432x288 with 1 Axes>",
      "image/png": "[encoded data removed]"
     },
     "metadata": {},
     "output_type": "display_data"
    }
   ],
   "source": [
    "# define mappings s -> meas1 and s -> meas2\n",
    "network = POMDPNetwork([syst_mdp, map1, map2])\n",
    "network.add_connection(['s'], 'meas1', lambda s: set([s==2]) )\n",
    "network.add_connection(['s'], 'meas2', lambda s: set([s==3]) )\n",
    "\n",
    "network.plot()\n",
    "print(network)"
   ]
  },
  {
   "cell_type": "markdown",
   "metadata": {},
   "source": [
    "### Solve LTL problem on product system"
   ]
  },
  {
   "cell_type": "code",
   "execution_count": 5,
   "metadata": {
    "pycharm": {
     "is_executing": false
    }
   },
   "outputs": [
    {
     "name": "stdout",
     "text": [
      "finished after 0.01s and 5 iterations\n"
     ],
     "output_type": "stream"
    }
   ],
   "source": [
    "# define formula and APs\n",
    "formula = 'safe U target'\n",
    "\n",
    "def safe_fcn(s, lab1, lab2):\n",
    "    return set([(s != 4 or lab1 == 'safe') and (s != 5 or lab2 == 'safe')])\n",
    "\n",
    "def target_fcn(s):\n",
    "    return set([s==6])\n",
    "\n",
    "predicates = {'safe': (['s', 'label1', 'label2'], safe_fcn),\n",
    "              'target': (['s'], target_fcn)} \n",
    "\n",
    "# solve synthesis problem\n",
    "pol = solve_ltl_cosafe(network, formula, predicates, delta=0.0001)"
   ]
  },
  {
   "cell_type": "markdown",
   "metadata": {},
   "source": [
    "### Simple simulation (p=0.75 of success)"
   ]
  },
  {
   "cell_type": "code",
   "execution_count": 6,
   "metadata": {
    "pycharm": {
     "is_executing": false
    }
   },
   "outputs": [
    {
     "name": "stdout",
     "text": [
      "current state [0, 0, 0]\ninput (2,) probability of sat 0.7496749758720398\nmoved to [2, 2, 0] and observed (2, 'únsafe', 'init') \n\ncurrent state [2, 2, 0]\ninput (1,) probability of sat 0.4997499883174896\nmoved to [3, 2, 1] and observed (3, 'únsafe', 'safe') \n\ncurrent state [3, 2, 1]\ninput (2,) probability of sat 0.9996999502182007\nmoved to [5, 2, 1] and observed (5, 'únsafe', 'safe') \n\ncurrent state [5, 2, 1]\ninput (2,) probability of sat 0.9997999668121338\nmoved to [7, 2, 1] and observed (7, 'únsafe', 'safe') \n\ncurrent state [7, 2, 1]\ninput (0,) probability of sat 0.9998999834060669\nmoved to [6, 2, 1] and observed (6, 'únsafe', 'safe') \n\ncurrent state [6, 2, 1]\ninput (0,) probability of sat 1.0\nmoved to [6, 2, 1] and observed (6, 'únsafe', 'safe') \n\n"
     ],
     "output_type": "stream"
    }
   ],
   "source": [
    "np.random.seed(6)   # long path\n",
    "# np.random.seed(0) # fail\n",
    "\n",
    "state = [0, 0, 0]\n",
    "p = 1\n",
    "\n",
    "pol.reset()\n",
    "\n",
    "while not pol.finished() and p > 0:\n",
    "    print (\"current state\", state)\n",
    "\n",
    "    # report atomic propositions\n",
    "    aps = set()\n",
    "    if safe_fcn(*state):\n",
    "        aps |= {'safe'}\n",
    "    if state[0] == 6:\n",
    "        aps |= {'target'}\n",
    "    pol.report_aps(aps)\n",
    "    \n",
    "    # get input\n",
    "    u, p = pol(state)\n",
    "    print (\"input\", u, \"probability of sat\", p)\n",
    "\n",
    "    # simulate\n",
    "    state, output = network.evolve(state, u)\n",
    "    print (\"moved to\", state, \"and observed\", output, '\\n')    "
   ]
  }
 ],
 "metadata": {
  "kernelspec": {
   "display_name": "Python 3",
   "language": "python",
   "name": "python3"
  },
  "language_info": {
   "codemirror_mode": {
    "name": "ipython",
    "version": 3
   },
   "file_extension": ".py",
   "mimetype": "text/x-python",
   "name": "python",
   "nbconvert_exporter": "python",
   "pygments_lexer": "ipython3",
   "version": "3.6.3"
  }
 },
 "nbformat": 4,
 "nbformat_minor": 2
}