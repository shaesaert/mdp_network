{
 "cells": [
  {
   "cell_type": "markdown",
   "source": [
    "## Robot navigation \n",
    "\n",
    "**This file gives a simple robot navigation case study**"
   ],
   "metadata": {
    "collapsed": false
   }
  },
  {
   "cell_type": "markdown",
   "source": [
    "### Initialize the Robot Dynamics"
   ],
   "metadata": {
    "collapsed": false
   }
  },
  {
   "cell_type": "code",
   "execution_count": 1,
   "outputs": [
    {
     "name": "stdout",
     "text": [
      "warning: mosek not found\nLoad robot model: Simple integrator model\n"
     ],
     "output_type": "stream"
    }
   ],
   "source": [
    "# load dynamics\n",
    "\n",
    "import polytope as pc\n",
    "import numpy as np\n",
    "from best.logic.translate import formula_to_pomdp\n",
    "from best.abstraction.gridding import LTIGrid\n",
    "\n",
    "import polytope as pc\n",
    "import numpy as np\n",
    "import math\n",
    "from collections import OrderedDict\n",
    "\n",
    "import matplotlib.patches\n",
    "import matplotlib.pyplot as plt\n",
    "from matplotlib import patches\n",
    "\n",
    "from best.models.lti import LTI, LTIGaussian\n",
    "from best.models.pomdp import POMDP, POMDPNetwork\n",
    "from best.abstraction.gridding import LTIGrid\n",
    "from Demos.Robot_navigation import specify_robot\n",
    "from Controller.Specifications import Fsa\n",
    "from best.models.pomdp_sparse_utils import diagonal, get_T_uxXz\n",
    "from best.solvers.occupation_lp import solve_ltl\n",
    "\n",
    "\n",
    "print('Load robot model: Simple integrator model')\n",
    "# Define the linear time invariant system\n",
    "# A = np.array([[0,-0.8572],[0.1,0.5]])\n",
    "dim = 2\n",
    "A = np.eye(2)  # np.array([[.9,-0.32],[0.1,0.9]])\n",
    "B = np.eye(dim)  # array([[1], [0.1]])\n",
    "W = np.array([[0.1, 0], [0, 0.1]])  # 2*Tr.dot(np.eye(dim)).dot(Tr)  # noise on transitions\n",
    "\n",
    "# Accuracy\n",
    "C = np.array([[1, 0], [0, 1]])  # defines metric for error (||y_finite-y||< epsilon with y= cx   )\n",
    "\n",
    "sys_lti = LTI(A, B, C, None, W=W)  # LTI system with   D = None\n",
    "\n",
    "sys_lti.setU(pc.box2poly(np.kron(np.ones((sys_lti.m, 1)), np.array([[-1, 1]]))))  # continuous set of inputs\n",
    "sys_lti.setX(pc.box2poly(np.kron(np.ones((sys_lti.dim, 1)), np.array([[-10, 10]]))))  # X space\n",
    "\n",
    " \n",
    " \n",
    "# specify required behaviour\n",
    "formula, regions = specify_robot()  # type: dict\n"
   ],
   "metadata": {
    "collapsed": false,
    "pycharm": {
     "name": "#%%\n",
     "is_executing": false
    }
   }
  },
  {
   "cell_type": "code",
   "execution_count": 2,
   "outputs": [
    {
     "name": "stdout",
     "text": [
      "-------Grid the robots state space------\nA = [[1. 0.]\n [0. 1.]]\n , B =[[1. 0.]\n [0. 1.]]\n , C = [[1 0]\n [0 1]]\n , D = None\n , W = [[0.1 0. ]\n [0.  0.1]]\nSingle polytope \n  [[ 1.  0.] |    [[10.]\n   [ 0.  1.] x <=  [10.]\n   [-1. -0.] |     [10.]\n   [-0. -1.]]|     [10.]]\n\n",
      "status: optimal\noptimal epsilon 1.0000720579253304\noptimal M [[ 1.00008 -0.     ]\n [-0.       1.00008]]\nOptimal K [[-0.99984 -0.     ]\n [-0.      -0.99984]]\n",
      "MDP: (9,) inputs ('u_d',) --> 813 states s --> 813 outputs (s,xc)\nbefore prune: nnz: 1754060, sparsity: 0.2948633832381784\nafter prune: nnz: 151225, sparsity: 0.025421430926076377\n"
     ],
     "output_type": "stream"
    },
    {
     "data": {
      "text/plain": "<matplotlib.figure.Figure at 0x126292400>",
      "image/png": "[encoded data removed]"
     },
     "metadata": {
      "needs_background": "light"
     },
     "output_type": "display_data"
    }
   ],
   "source": [
    "### Grid Robot\n",
    "\n",
    "\n",
    "print(\"-------Grid the robots state space------\")\n",
    "#  set the state spaces: \n",
    "d_opt = np.array([[0.69294], [0.721]]) # tuned gridding ratio from a previous paper\n",
    "d =  d_opt  # with distance measure 0.6=default\n",
    "un = 3\n",
    "\n",
    "\n",
    "\n",
    "from collections.abc import Iterable\n",
    "\n",
    "print(sys_lti)\n",
    "print(sys_lti.X)\n",
    "lti_n = sys_lti.normalize()\n",
    "\n",
    "abstr = LTIGrid(lti_n, d.flatten(), un=3 )\n",
    "fig = plt.figure()\n",
    "ax0 = fig.add_subplot(111)\n",
    "abstr.plot(ax0)\n",
    "\n",
    "# plot regions\n",
    "for _, poly_set in regions.items():\n",
    "\n",
    "   for index in range(len(poly_set)):\n",
    "       \n",
    "        V = pc.extreme(poly_set[index])\n",
    "        ax0.add_patch(patches.Polygon(V))\n",
    "        \n",
    "print (abstr.mdp)\n",
    "print ('before prune: nnz: {}, sparsity: {}'.format(abstr.mdp.nnz, abstr.mdp.sparsity))\n",
    "abstr.mdp.prune(1e-6)\n",
    "print ('after prune: nnz: {}, sparsity: {}'.format(abstr.mdp.nnz, abstr.mdp.sparsity))\n",
    "\n"
   ],
   "metadata": {
    "collapsed": false,
    "pycharm": {
     "name": "#%%\n",
     "is_executing": false
    }
   }
  },
  {
   "cell_type": "code",
   "execution_count": 3,
   "outputs": [
    {
     "name": "stderr",
     "text": [
      "ERROR:root:No traceback has been produced, nothing to debug.\n"
     ],
     "output_type": "stream"
    }
   ],
   "source": [
    "%debug\n",
    "\n",
    " "
   ],
   "metadata": {
    "collapsed": false,
    "pycharm": {
     "name": "#%%\n",
     "is_executing": false
    }
   }
  },
  {
   "cell_type": "markdown",
   "source": [
    "### Specify the required behaviour"
   ],
   "metadata": {
    "collapsed": false
   }
  },
  {
   "cell_type": "code",
   "execution_count": 4,
   "outputs": [
    {
     "name": "stdout",
     "text": [
      "The synthesised formula is: ( ( ( !obst & !col ) U pac ) & ( !obst U col ) )\nThe FSA is : \ng=, \ninit={'0': 1}, \nfinal={'1'}, \nprops={'col': 1, 'obst': 2, 'pac': 4}, \nalphabet={0, 1, 2, 3, 4, 5, 6, 7}\n FSA with : _node={'2': {}, '1': {}, '0': {}}, \n FSA with : _succ={'2': {'1': {'weight': 0, 'input': {1, 3, 5, 7}, 'guard': '((!pac & col) | (pac & col))', 'label': '((!pac & col) | (pac & col))'}, '2': {'weight': 0, 'input': {0, 4}, 'guard': '(!col & !obst)', 'label': '(!col & !obst)'}}, '1': {'1': {'weight': 0, 'input': {0, 1, 2, 3, 4, 5, 6, 7}, 'guard': '(1)', 'label': '(1)'}}, '0': {'0': {'weight': 0, 'input': {0}, 'guard': '(!pac & (!col & !obst))', 'label': '(!pac & (!col & !obst))'}, '1': {'weight': 0, 'input': {5, 7}, 'guard': '(pac & col)', 'label': '(pac & col)'}, '2': {'weight': 0, 'input': {4}, 'guard': '(pac & (!col & !obst))', 'label': '(pac & (!col & !obst))'}}}\nMDP: (2, 2, 2) inputs ('pac', 'obst', 'col') --> 4 states mu --> 4 outputs mu\n"
     ],
     "output_type": "stream"
    }
   ],
   "source": [
    "fsaform = Fsa() # this is a FSA , contains a digraph\n",
    "fsaform.from_formula(formula) # given a more complex formula\n",
    "\n",
    "print(\"The synthesised formula is:\",formula)\n",
    "print(\"The FSA is :\", fsaform)\n",
    "\n",
    "dfsa, dfsa_init, dfsa_final = formula_to_pomdp(formula)\n",
    "print(dfsa)\n",
    "\n",
    "network = POMDPNetwork([abstr.mdp, dfsa])\n"
   ],
   "metadata": {
    "collapsed": false,
    "pycharm": {
     "name": "#%%\n",
     "is_executing": false
    }
   }
  },
  {
   "cell_type": "code",
   "execution_count": 5,
   "outputs": [
    {
     "name": "stdout",
     "text": [
      "MDP network: (9, 2, 2, 2) inputs ('u_d', 'pac', 'obst', 'col'), (813, 4) states ('s', 'mu'), (813, 4) outputs ('(s,xc)', 'mu')\n"
     ],
     "output_type": "stream"
    }
   ],
   "source": [
    "print(network)\n"
   ],
   "metadata": {
    "collapsed": false,
    "pycharm": {
     "name": "#%%\n",
     "is_executing": false
    }
   }
  },
  {
   "cell_type": "code",
   "execution_count": 6,
   "outputs": [
    {
     "name": "stdout",
     "text": [
      "col\n",
      "pac\n",
      "obst\n"
     ],
     "output_type": "stream"
    }
   ],
   "source": [
    "import copy\n",
    "props={'col': 1, 'pac': 2, 'obst': 4}\n",
    "\n",
    "s = 0\n",
    "\n",
    " \n",
    "for key in props:\n",
    "    print(key)\n",
    "    length = len(regions[key])\n",
    "    if length >1:\n",
    "        network.add_connection(['(s,xc)'], key,\n",
    "                                       lambda s_xc: max(*[abstr.polytopic_predicate(s_xc[1], regions[key][l])\n",
    "                                                          for l in range(length)]))\n",
    "    else:\n",
    "        network.add_connection(['(s,xc)'], key,\n",
    "                               lambda s_xc: abstr.polytopic_predicate(s_xc[1], regions[key][0]) )\n",
    " \n",
    " "
   ],
   "metadata": {
    "collapsed": false,
    "pycharm": {
     "name": "#%%\n",
     "is_executing": false
    }
   }
  },
  {
   "cell_type": "code",
   "execution_count": 7,
   "outputs": [],
   "source": [
    "Robotmdp = diagonal(get_T_uxXz(network.pomdps['s']), 2, 3)\n",
    "\n",
    "import itertools\n",
    "stacked =  [np.array(network.pomdps['mu'].T((col,pac,obs)).todense())\n",
    "               for col,pac,obs in itertools.product([0,1],[0,1],[0,1])]\n",
    "Robotdfa = np.stack(stacked    ,axis=0)"
   ],
   "metadata": {
    "collapsed": false,
    "pycharm": {
     "name": "#%%\n",
     "is_executing": false
    }
   }
  },
  {
   "cell_type": "code",
   "execution_count": 8,
   "outputs": [],
   "source": [
    "# take min col network.connections[0]\n",
    "# take min pac network.connections[1]\n",
    "# take max obstacle  network.connections[2]\n",
    "# print(np.int_(network.connections[0][2][0]))\n",
    "strat = 4 * (1-np.int_(network.connections[0][2][0]))\\\n",
    "        + 2 * (1-np.int_(network.connections[1][2][0])) \\\n",
    "        +  1 * (np.int_(network.connections[2][2][1])) \n",
    "\n",
    " \n",
    "delta = 0.01\n"
   ],
   "metadata": {
    "collapsed": false,
    "pycharm": {
     "name": "#%%\n",
     "is_executing": false
    }
   }
  },
  {
   "cell_type": "code",
   "execution_count": null,
   "outputs": [
    {
     "name": "stdout",
     "text": [
      "[0, 1, 2, 56, 57, 58, 28, 29, 30]\nAcademic license - for non-commercial use only\n",
      "create empty model 0.020541906356811523\n",
      "added variables 236.92221903800964\n"
     ],
     "output_type": "stream"
    }
   ],
   "source": [
    "# reach_prob, val2 = solve_delta(Robotmdp, Robotdfa, conn, delta, s0=0, q0=0, q_target=1)\n",
    "\n",
    "# strat = np.array([[0] * (Robotmdp.shape[2]), [1] * (Robotmdp.shape[2])]).transpose()\n",
    "strat = strat.transpose()\n",
    "s_list = abstr.x_to_all_s(np.array([[-9],[-9]]))\n",
    "\n",
    "print(s_list)\n",
    "model,reach_prob = solve_ltl(Robotmdp, Robotdfa, strat,0, s0=max(s_list), q0=0, q_target=1)\n",
    "\n",
    " \n",
    "\n",
    "\n"
   ],
   "metadata": {
    "collapsed": false,
    "pycharm": {
     "name": "#%%\n",
     "is_executing": true
    }
   }
  },
  {
   "cell_type": "code",
   "execution_count": null,
   "outputs": [],
   "source": [
    "import scipy.sparse\n",
    "import matplotlib.pyplot as plt\n",
    "\n",
    "m = scipy.sparse.coo_matrix((reach_prob['x'],\n",
    "                             (np.array(reach_prob['indices'])[::,1],\n",
    "                              np.array(reach_prob['indices'])[::,2])))\n",
    "Pol = m.argmax(1)\n",
    "Z = m.sum(1)\n",
    "\n",
    "Z = Z[:-1:].reshape(abstr.n_list[0],abstr.n_list[1])\n",
    "Pol = Pol[:-1:].reshape(abstr.n_list[0],abstr.n_list[1])\n",
    "\n",
    "\n",
    "fig, (ax0, ax1) = plt.subplots(2, 1)\n",
    "# plt.show()\n",
    "\n",
    "\n",
    "ax0.pcolorfast((-10,10),(-10,10),np.array(Pol))\n",
    "ax1.pcolorfast((-10,10),(-10,10),np.array(Z))\n",
    "plt.show()\n",
    " \n",
    " "
   ],
   "metadata": {
    "collapsed": false,
    "pycharm": {
     "name": "#%%\n",
     "is_executing": true
    }
   }
  },
  {
   "cell_type": "code",
   "execution_count": null,
   "outputs": [],
   "source": [
    "import scipy.sparse\n",
    "import matplotlib.pyplot as plt\n",
    "\n",
    "q = 0\n",
    "bol_mask = reach_prob['indices'][::,0]==0\n",
    "m = scipy.sparse.coo_matrix((reach_prob['x'][bol_mask],\n",
    "                             (np.array(reach_prob['indices'])[::,1][bol_mask],\n",
    "                              np.array(reach_prob['indices'])[::,2][bol_mask])))\n",
    "print(m)"
   ],
   "metadata": {
    "collapsed": false,
    "pycharm": {
     "name": "#%%\n",
     "is_executing": true
    }
   }
  },
  {
   "cell_type": "code",
   "execution_count": null,
   "outputs": [],
   "source": [
    "Pol = np.array(m.argmax(1))\n",
    "Z = m.sum(1)\n",
    "\n",
    "Z = Z[:-1:].reshape(abstr.n_list[0],abstr.n_list[1])\n",
    "# Pol = Pol[:-1:].reshape(abstr.n_list[0],abstr.n_list[1])\n",
    "print('max Z', np.max(Z))\n",
    "\n",
    "\n",
    "\n",
    "# fig, (ax0, ax1) = plt.subplots(2, 1)\n",
    "\n",
    "\n",
    "\n",
    "ax0  = plt.axes()\n",
    "# plt.show()\n",
    "xy = np.array([[abstr.s_to_x(s)[0],abstr.s_to_x(s)[1]] for s in range(abstr.n_list[0]*(abstr.n_list[1])) ] )\n",
    "print(xy)\n",
    "x= xy[::,0]\n",
    "y= xy[::,1]\n",
    "print(abstr.ud_to_u(0)[0])\n",
    "print('test',np.concatenate([[abstr.ud_to_u(p)] for p in range(9) ]))\n",
    "dxy =np.concatenate([[[abstr.ud_to_u(p[0])]] for p in Pol ] )\n",
    "print(Pol.shape)\n",
    "\n",
    "print('test', dxy[::,0])\n",
    "plt.arrow(x, y, dxy[::,0], dxy[::,0])\n",
    "# ax1.pcolorfast((-10,10),(-10,10),np.array(Pol))\n",
    "ax0.pcolorfast((-10,10),(-10,10),np.array(Z))\n",
    "\n",
    "plt.show()\n"
   ],
   "metadata": {
    "collapsed": false,
    "pycharm": {
     "name": "#%%\n",
     "is_executing": true
    }
   }
  },
  {
   "cell_type": "code",
   "execution_count": 4,
   "outputs": [],
   "source": [
    "\n",
    "json.dump({'s':1,'c':1}, file)"
   ],
   "metadata": {
    "collapsed": false,
    "pycharm": {
     "name": "#%%\n",
     "is_executing": false
    }
   }
  }
 ],
 "metadata": {
  "language_info": {
   "codemirror_mode": {
    "name": "ipython",
    "version": 2
   },
   "file_extension": ".py",
   "mimetype": "text/x-python",
   "name": "python",
   "nbconvert_exporter": "python",
   "pygments_lexer": "ipython2",
   "version": "2.7.6"
  },
  "kernelspec": {
   "name": "python3",
   "language": "python",
   "display_name": "Python 3"
  },
  "pycharm": {
   "stem_cell": {
    "cell_type": "raw",
    "source": [],
    "metadata": {
     "collapsed": false
    }
   }
  }
 },
 "nbformat": 4,
 "nbformat_minor": 0
}