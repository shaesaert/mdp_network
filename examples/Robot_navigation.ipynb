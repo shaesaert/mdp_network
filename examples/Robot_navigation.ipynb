{
 "cells": [
  {
   "cell_type": "markdown",
   "source": [
    "## Robot navigation \n",
    "\n",
    "**This file gives a simple robot navigation case study**"
   ],
   "metadata": {
    "collapsed": false
   }
  },
  {
   "cell_type": "markdown",
   "source": [
    "### Initialize the Robot Dynamics"
   ],
   "metadata": {
    "collapsed": false
   }
  },
  {
   "cell_type": "code",
   "execution_count": 7,
   "outputs": [
    {
     "name": "stdout",
     "text": [
      "Load robot model: Simple integrator model\n[[0.31623 0.     ]\n [0.      0.31623]]\n"
     ],
     "output_type": "stream"
    }
   ],
   "source": [
    "# load dynamics\n",
    "from Demos.demo_Models import simple_robot\n",
    "import polytope as pc\n",
    "import numpy as np\n",
    "from best.logic.translate import formula_to_pomdp\n",
    "\n",
    "Robot = simple_robot()  # type: \n",
    "\n",
    "\n",
    "\n",
    "\n",
    "Robot.input_space = pc.box2poly(np.kron(np.ones((Robot.m, 1)), np.array([[-1, 1]])))  # continuous set of inputs\n",
    "Robot.state_space = pc.box2poly(np.kron(np.ones((Robot.dim, 1)), np.array([[-10, 10]])))  # X space\n",
    "\n"
   ],
   "metadata": {
    "collapsed": false,
    "pycharm": {
     "name": "#%%\n",
     "is_executing": false
    }
   }
  },
  {
   "cell_type": "markdown",
   "source": [
    "### Grid Robot"
   ],
   "metadata": {
    "collapsed": false
   }
  },
  {
   "cell_type": "code",
   "execution_count": 8,
   "outputs": [
    {
     "name": "stdout",
     "text": [
      "-------Grid the robots state space------\n------- start gridding -------\n",
      "did not compute eps and del\n=========warning===========\ninterface variable K is seen as an optimization variable\nLMI_set B [[1. 0.]\n [0. 1.]]\n    This function computes an invariant set R  for the system\ninitiated variables\n",
      "status: optimal\noptimal epsilon [[1.00007]]\noptimal M [[ 1.00008 -0.     ]\n [-0.       1.00008]]\nOptimal K [[-1. -0.]\n [-0. -1.]]\nStatus of epsilon computation:  optimal\nset eps to = [[1.00007]]\n"
     ],
     "output_type": "stream"
    }
   ],
   "source": [
    "\n",
    "\n",
    "\n",
    "print(\"-------Grid the robots state space------\")\n",
    "#  set the state spaces:\n",
    "from Reduce.Gridding import grid\n",
    "from Controller.Approx_sim import rel_eps_del\n",
    "from best.models.pomdp import POMDP, POMDPNetwork\n",
    "from best.models.pomdp_sparse_utils import get_T_uxXz, diagonal\n",
    "from best.solvers.occupation_lp_new import *\n",
    "\n",
    "d_opt = np.array([[0.69294], [0.721]]) # tuned gridding ratio from a previous paper\n",
    "d = 2* d_opt  # with distance measure 0.6=default\n",
    "un = 7\n",
    "\n",
    "\n",
    "## real computations\n",
    "Ms, srep = grid(Robot, d, un=un)\n",
    "\n",
    "network = POMDPNetwork()\n",
    "network.add_pomdp(POMDP( Ms.transition, input_names=['a'], state_name='s'))\n",
    "\n",
    "\n",
    "\n",
    "print('did not compute eps and del')\n",
    "rel = rel_eps_del(Ms, Robot)\n",
    "\n",
    "eps, M, K, status = rel.get_eps()\n",
    "print(\"Status of epsilon computation: \",status)\n",
    "print('set eps to =', eps)\n",
    "\n"
   ],
   "metadata": {
    "collapsed": false,
    "pycharm": {
     "name": "#%%\n",
     "is_executing": false
    }
   }
  },
  {
   "cell_type": "code",
   "execution_count": 13,
   "outputs": [
    {
     "name": "stdout",
     "text": [
      "status: optimal\noptimal epsilon 2.000078223117768\noptimal M [[ 1.00005 -0.     ]\n [-0.       1.00005]]\nOptimal K [[ 0.70704 -0.     ]\n [-0.      -0.70704]]\n",
      "before prune: nnz: 645310, sparsity: 0.40454020859231843\nafter prune: nnz: 63367, sparsity: 0.03972431761148819\n"
     ],
     "output_type": "stream"
    }
   ],
   "source": [
    "from best.models.lti import LTI, LTIGaussian\n",
    "\n",
    "from best.abstraction.gridding import LTIGrid\n",
    "\n",
    "A = np.eye(2) \n",
    "B = np.eye(2)\n",
    "W = np.array([[.4,-0.2],[-0.2,0.4]])   \n",
    "C = np.array([[1, 0],[0,1]])\n",
    "sys_lti = LTI(A, B, C, None, W=W)\n",
    "# Define spaces\n",
    "sys_lti.setU(pc.box2poly(np.kron(np.ones((sys_lti.m, 1)), np.array([[-1, 1]])))) # continuous set of inputs\n",
    "sys_lti.setX(pc.box2poly(np.kron(np.ones((sys_lti.dim, 1)), np.array([[-10, 10]])))) # X space\n",
    "\n",
    "lti_belief_n = sys_lti.normalize()\n",
    "\n",
    "abstr = LTIGrid(lti_belief_n, d.flatten(), un=3 )\n",
    "print ('before prune: nnz: {}, sparsity: {}'.format(abstr.mdp.nnz, abstr.mdp.sparsity))\n",
    "abstr.mdp.prune(1e-6)\n",
    "print ('after prune: nnz: {}, sparsity: {}'.format(abstr.mdp.nnz, abstr.mdp.sparsity))"
   ],
   "metadata": {
    "collapsed": false,
    "pycharm": {
     "name": "#%%\n",
     "is_executing": false
    }
   }
  },
  {
   "cell_type": "markdown",
   "source": [
    "### Specify the required behaviour"
   ],
   "metadata": {
    "collapsed": false
   }
  },
  {
   "cell_type": "code",
   "execution_count": null,
   "outputs": [],
   "source": [
    "from Demos.Robot_navigation import specify_robot\n",
    "from Controller.Specifications import Fsa\n",
    "\n",
    "# specify required behaviour\n",
    "formula, regions = specify_robot()  # type: dict\n",
    "\n",
    "\n",
    "fsaform = Fsa() # this is a FSA , contains a digraph\n",
    "fsaform.from_formula(formula) # given a more complex formula\n",
    "\n",
    "print(\"The synthesised formula is:\",formula)\n",
    "print(\"The FSA is :\", fsaform)\n",
    "\n",
    "dfsa, dfsa_init, dfsa_final = formula_to_pomdp(formula)\n",
    "print(dfsa)\n",
    "network.add_pomdp(dfsa)\n",
    "\n"
   ],
   "metadata": {
    "collapsed": false,
    "pycharm": {
     "name": "#%%\n",
     "is_executing": false
    }
   }
  },
  {
   "cell_type": "code",
   "execution_count": null,
   "outputs": [],
   "source": [
    "print(network)\n"
   ],
   "metadata": {
    "collapsed": false,
    "pycharm": {
     "name": "#%%\n",
     "is_executing": false
    }
   }
  },
  {
   "cell_type": "code",
   "execution_count": null,
   "outputs": [],
   "source": [
    "import copy\n",
    "props={'col': 1, 'pac': 2, 'obst': 4}\n",
    "\n",
    "s = 0\n",
    "\n",
    " \n",
    "    \n",
    "val = sum([vals * int(Ms.output_space[s] in pc.Region(regions[key])) for key,vals in props.items()])\n",
    "    \n",
    "print (val)\n",
    "copy_ouputmap = copy.deepcopy(Ms.output_space)\n",
    "func =  lambda s: set([int(Ms.output_space[s] in pc.Region(regions[key]))])\n",
    "for key in props:\n",
    "    # network.add_connection(['s'], key, func )\n",
    "    \n",
    "    network.add_connection(['s'], key, lambda s_xc: Ms.polytopic_predicate(s_xc[1], regions[key]) )\n",
    " \n"
   ],
   "metadata": {
    "collapsed": false,
    "pycharm": {
     "name": "#%%\n",
     "is_executing": false
    }
   }
  },
  {
   "cell_type": "markdown",
   "source": [
    "### Plot the layout of the specifications on finite MDP\n",
    "- empty circle = potential regions of interest\n",
    "\tComputed by dilating the original polytope\n",
    "- full circles = definite regions of interest (e.g., obstacle, col, pac)\n",
    "\tComputed by eroding the original polytopes"
   ],
   "metadata": {
    "collapsed": false
   }
  },
  {
   "cell_type": "code",
   "execution_count": null,
   "outputs": [],
   "source": [
    "# show specification on gridded robot\n",
    "%matplotlib inline \n",
    "import matplotlib.pyplot as plt\n",
    "fig = plt.figure()\n",
    "ax = fig.gca()\n",
    "# Make data.\n",
    "X = srep[0]\n",
    "Y = srep[1]\n",
    "Z = []\n",
    "Obs_ero = pc.erode(pc.Region(regions['obst']),eps)\n",
    "Obs_dil = pc.dilate(pc.Region(regions['obst']),eps)\n",
    "Pac_ero = pc.erode(pc.Region(regions['pac']),eps)\n",
    "Pac_dil = pc.dilate(pc.Region(regions['pac']),eps)\n",
    "Col_ero = pc.erode(pc.Region(regions['col']),eps)\n",
    "Col_dil = pc.dilate(pc.Region(regions['col']),eps)\n",
    "\n",
    "for i in range(len(Ms.output_space)):\n",
    "    if np.isnan(Ms.output_space[i]).any():\n",
    "        continue\n",
    "    if Ms.output_space[i] in Obs_ero:\n",
    "        plt.plot(Ms.state_space[i][0], Ms.state_space[i][1],'bo')\n",
    "        \n",
    "    elif Ms.output_space[i] in Obs_dil:\n",
    "        plt.plot(Ms.state_space[i][0], Ms.state_space[i][1],'bo', mfc='none')\n",
    "\n",
    "    if Ms.output_space[i] in Pac_ero:\n",
    "        plt.plot(Ms.state_space[i][0], Ms.state_space[i][1], 'go')\n",
    "        \n",
    "    elif Ms.output_space[i] in Pac_dil:\n",
    "        plt.plot(Ms.state_space[i][0], Ms.state_space[i][1], 'go', mfc='none')\n",
    "        \n",
    "    if Ms.output_space[i] in Col_ero:\n",
    "        plt.plot(Ms.state_space[i][0], Ms.state_space[i][1], 'ro')\n",
    "        \n",
    "    elif Ms.output_space[i] in Col_dil:\n",
    "        plt.plot(Ms.state_space[i][0], Ms.state_space[i][1], 'ro', mfc='none')\n",
    "\n",
    "plt.show()\n",
    "\n",
    "\n",
    "\n"
   ],
   "metadata": {
    "collapsed": false,
    "pycharm": {
     "name": "#%%\n",
     "is_executing": false
    }
   }
  },
  {
   "cell_type": "code",
   "execution_count": null,
   "outputs": [],
   "source": [
    "import copy\n",
    "\n",
    "\n",
    "network.add_connection(['s'], 'l', \n",
    "                       lambda s: set([1]) \n",
    "                       if (Ms._state_space[s][0] > 4) \n",
    "                       else set([0]))\n",
    "accept = np.zeros((Ms.transition.shape[1], 2))\n",
    "accept[:, 1] = 1\n"
   ],
   "metadata": {
    "collapsed": false,
    "pycharm": {
     "name": "#%%\n",
     "is_executing": false
    }
   }
  },
  {
   "cell_type": "code",
   "execution_count": null,
   "outputs": [],
   "source": [
    "Robotmdp = diagonal(get_T_uxXz(network.pomdps['s']), 2, 3)\n",
    "\n",
    "Robotdfa = diagonal(get_T_uxXz(network.pomdps['q']), 2, 3)\n",
    "print(Robotdfa.todense())\n",
    "\n",
    "\n",
    "conn = network.connections[0][2]\n",
    "\n",
    "delta = 0.01\n"
   ],
   "metadata": {
    "collapsed": false,
    "pycharm": {
     "name": "#%%\n",
     "is_executing": false
    }
   }
  },
  {
   "cell_type": "code",
   "execution_count": null,
   "outputs": [],
   "source": [
    "# reach_prob, val2 = solve_delta(Robotmdp, Robotdfa, conn, delta, s0=0, q0=0, q_target=1)\n",
    "\n",
    "strat = np.array([[0] * (Robotmdp.shape[2]), [1] * (Robotmdp.shape[2])]).transpose()\n",
    "strat = strat[conn.transpose()]\n",
    "\n",
    "model,reach_prob = solve_ltl(Robotmdp, Robotdfa, strat,0, s0=0, q0=0, q_target=1)\n",
    "\n",
    "\n",
    " "
   ],
   "metadata": {
    "collapsed": false,
    "pycharm": {
     "name": "#%%\n",
     "is_executing": false
    }
   }
  },
  {
   "cell_type": "code",
   "execution_count": null,
   "outputs": [],
   "source": [
    "# synthesize control\n",
    "from Controller.Robust import Robust_control\n",
    "\n",
    "ro_pol = Robust_control(Ms, fsaform, regions, eps.item(), 0, M=None)\n",
    "ro_pol.init_V()\n",
    "\n",
    "number_of_backups = 40\n",
    "for i in range(number_of_backups):\n",
    "    ro_pol.back_up() # do 40\n",
    "    \n",
    "\n",
    "\n",
    "\n"
   ],
   "metadata": {
    "collapsed": false,
    "pycharm": {
     "name": "#%%\n",
     "is_executing": false
    }
   }
  },
  {
   "cell_type": "code",
   "execution_count": null,
   "outputs": [],
   "source": [
    "from mpl_toolkits.mplot3d import Axes3D\n",
    "import matplotlib.pyplot as plt\n",
    "%matplotlib inline  \n",
    "\n",
    "ro_pol._q_back_up()   \n",
    "# ax = fig.gca(projection='3d')\n",
    "# Make data.\n",
    "X = srep[0]\n",
    "Y = srep[1]\n",
    "q_it= ro_pol.q_it.copy()+ list(ro_pol.q_final)\n",
    "\n",
    "q = q_it.pop()\n",
    "print(\"inital\", ro_pol.q_init)\n",
    "print(\"goal\", ro_pol.q_final)\n",
    "print(\"trap\", ro_pol.q_end)\n",
    "\n",
    "\n",
    "\n",
    "\n",
    "# Plot the surface.\n",
    "ax1 = plt.subplot(221)\n",
    "ro_pol.plot(q)\n",
    "\n",
    "#plt.pcolor(X, Y, Z,vmin=0, vmax=1)\n",
    "# plt.colorbar(surf)\n",
    "\n",
    "\n",
    "# Customize the z axis.\n",
    "# ax.set_xlim(srep[0][0], srep[0][-1])\n",
    "# ax.set_ylim(srep[1][0], srep[1][-1])\n",
    "\n",
    "# plt.setp(ax1.get_xticklabels(), fontsize=6)\n",
    "\n",
    "# share x only\n",
    "ax2 = plt.subplot(222, sharex=ax1,sharey=ax1)\n",
    "q = q_it.pop()\n",
    "ro_pol.plot(q)\n",
    "# Z = ro_pol.V[:-1,q]\n",
    "# Z = Z.reshape(X.shape, order='F')\n",
    "# plt.pcolor(X, Y, Z,vmin=0, vmax=1)\n",
    "# # plt.colorbar()\n",
    "\n",
    "# make these tick labels invisible\n",
    "# plt.setp(ax2.get_xticklabels(), visible=False)\n",
    "\n",
    "# share x and y\n",
    "ax3 = plt.subplot(223, sharex=ax1, sharey=ax1)\n",
    "q = q_it.pop()\n",
    "ro_pol.plot(q)\n",
    "\n",
    "# print(q)\n",
    "# \n",
    "# Z = ro_pol.V[:-1,q]\n",
    "# Z = Z.reshape(X.shape, order='F')\n",
    "# plt.pcolor(X, Y, Z,vmin=0, vmax=1)\n",
    "#plt.colorbar()\n",
    "\n",
    "# share x and y\n",
    "ax4 = plt.subplot(224, sharex=ax1, sharey=ax1)\n",
    "q = q_it.pop()\n",
    "ro_pol.plot(q)\n",
    "\n",
    "# print(q)\n",
    "# \n",
    "# Z = ro_pol.V[:-1,q]\n",
    "# Z = Z.reshape(X.shape, order='F')\n",
    "# plt.pcolor(X, Y, Z,vmin=0, vmax=1)\n",
    "#plt.colorbar()\n",
    "\n",
    "plt.subplots_adjust(top=0.92, bottom=0.08, left=0.10, right=0.95, hspace=0.25,\n",
    "                    wspace=0.35)\n",
    "cax = plt.axes([.99, 0.05, 0.02, .9])\n",
    "plt.colorbar(cax=cax)\n",
    "\n",
    "#plt.show()\n",
    "\n",
    "\n",
    "# ax.zaxis.set_major_locator(LinearLocator(10))\n",
    "# ax.zaxis.set_major_formatter(FormatStrFormatter('%.02f'))\n",
    "\n",
    "# Add a color bar which maps values to colors.\n",
    "\n",
    "print(\"Difference with paper is caused by a factor 2 differences in epsilon. \"\n",
    "      \"This is  related to the way we grid there. \")"
   ],
   "metadata": {
    "collapsed": false,
    "pycharm": {
     "name": "#%%\n",
     "is_executing": false
    }
   }
  },
  {
   "cell_type": "markdown",
   "source": [
    "### Get the robust policy "
   ],
   "metadata": {
    "collapsed": false
   }
  },
  {
   "cell_type": "code",
   "execution_count": null,
   "outputs": [],
   "source": [
    "from Controller.Robust import interface\n",
    "ro_pol.get_pol()\n",
    "int_f = interface(ro_pol,rel)\n"
   ],
   "metadata": {
    "collapsed": false,
    "pycharm": {
     "name": "#%%\n",
     "is_executing": false
    }
   }
  },
  {
   "cell_type": "markdown",
   "source": [
    "### Run simulation of robust policy on original model"
   ],
   "metadata": {
    "collapsed": false
   }
  },
  {
   "cell_type": "code",
   "execution_count": null,
   "outputs": [],
   "source": [
    "\n",
    "print(\"------------- Start simulation -------------\")\n",
    "print(\"--> 1. Reset current states \")\n",
    "x = np.array([[-8],[-8]])\n",
    "int_f.reset(x)\n",
    "\n",
    "print(\"--> 2. Start simulation \")\n",
    "time = 90\n",
    "x_seq = []\n",
    "q_seq = []\n",
    "\n",
    "u_seq = []\n",
    "y_seq = []\n",
    "print(\"dead states, \", ro_pol.q_end)\n",
    "print(\"final states, \", ro_pol.q_final)\n",
    "print(\"initial states, \", ro_pol.q_init)\n",
    "\n",
    "for t in range(time):\n",
    "    q_seq += [int_f.q]\n",
    "    x_seq += [x]\n",
    "    y_seq += [Robot.h(x)]\n",
    "    u = int_f.u(x)\n",
    "    u_seq += [u]\n",
    "    x = Robot.next_x( x,u)\n",
    "    if int_f.q in ro_pol.q_final:\n",
    "        break\n",
    "        \n",
    "    \n",
    " \n",
    "X = srep[0]\n",
    "Y = srep[1]\n",
    "q_it= ro_pol.q_it.copy()+ list(ro_pol.q_final)\n",
    "\n",
    " \n",
    "X, Y = np.meshgrid(X, Y)\n",
    "\n",
    "\n",
    "x = np.concatenate(x_seq,axis=1)\n",
    "# fig = plt.figure()\n",
    "# ax = fig.add_subplot(111)\n",
    "Z = ro_pol.V[:-1,q_seq[0]]\n",
    "Z = Z.reshape(X.shape, order='F')\n",
    "\n",
    "plt.pcolor(X, Y, Z,vmin=0, vmax=1)\n",
    "\n",
    "plt.plot(x[0],x[1])\n",
    "plt.scatter(x[0],x[1], label='Finite states', color='k', s=10, marker=\"o\")\n",
    "plt.xlabel('x_1') \n",
    "plt.ylabel('x_2') \n",
    "plt.xlim(np.array([-15,15]))\n",
    "plt.ylim(np.array([-15,15]))\n",
    "    \n",
    "    \n"
   ],
   "metadata": {
    "collapsed": false,
    "pycharm": {
     "name": "#%%\n",
     "is_executing": false
    }
   }
  },
  {
   "cell_type": "code",
   "execution_count": null,
   "outputs": [],
   "source": [
    "from Reduce.Gridding import grid\n",
    "\n",
    "d_opt = np.array([[0.69294], [0.721]]) # tuned gridding ratio from a previous paper\n",
    " \n",
    "\n",
    "d = 1.1 * d_opt  # with distance measure 0.6=default\n",
    "un = 3\n",
    "\n",
    "Ms, srep  = grid(Robot, d, un=un)\n",
    "\n",
    "print('# states')\n",
    "print(len(Ms._state_space))\n",
    "network = POMDPNetwork()\n",
    "\n",
    "T00 = Ms.transition\n",
    "\n",
    "network.add_pomdp(POMDP(T00, input_names=['a'], state_name='s'))\n",
    "\n",
    "T0 = np.array([[1, 0],\n",
    "               [0, 1]]);\n",
    "T1 = np.array([[0, 1],\n",
    "               [0, 1]]);\n",
    "network.add_pomdp(POMDP([T0, T1], input_names=['l'], state_name='q'))\n",
    "Ms._state_space[-1] = (np.nan,np.nan)\n",
    "# (Ms._state_space[s][0] > 4)\n",
    "\n",
    "network.add_connection(['s'], 'l', lambda s: set([1]) if (Ms._state_space[s][0] > 4) else set([0]) )\n",
    "accept = np.zeros((T00.shape[1],2))\n",
    "accept[:,1] = 1\n",
    "\n",
    "val_list, pol_list = solve_reach(network, accept)\n",
    "Robotmdp = diagonal(get_T_uxXz(network.pomdps['s']), 2, 3)\n",
    "Robotdfa = diagonal(get_T_uxXz(network.pomdps['q']), 2, 3)\n",
    "conn = network.connections[0][2].transpose()\n",
    "\n",
    "t=time.time()\n",
    "delta = 0.01\n",
    "# reach_prob, val2 = solve_delta(self.mdp1, self.dfa1, conn, delta, s0=0, q0=0, q_target=1)\n",
    "strat = np.array([[0] * (Robotmdp.shape[2]), [1] * (Robotmdp.shape[2])]).transpose()\n",
    "strat = strat[conn]\n",
    "\n",
    "model, reach_prob = solve_ltl(Robotmdp.todense(), Robotdfa.todense(), strat, delta, s0=0, q0=0, q_target=1)\n",
    "# np.testing.assert_almost_equal(reach_prob['primal objective'], val_list[0][0, 0], decimal=5)\n",
    "print(reach_prob)\n",
    "print([reach_prob['primal objective']])\n",
    "print([time.time()-t])\n"
   ],
   "metadata": {
    "collapsed": false,
    "pycharm": {
     "name": "#%%\n",
     "is_executing": false
    }
   }
  },
  {
   "cell_type": "code",
   "execution_count": null,
   "outputs": [],
   "source": [
    "import scipy.sparse\n",
    "import matplotlib.pyplot as plt\n",
    "\n",
    "m = scipy.sparse.coo_matrix((reach_prob['x'],(np.array(reach_prob['indices'])[::,1],np.array(reach_prob['indices'])[::,2])))\n",
    "Pol = m.argmax(1)\n",
    "Z = m.sum(1)\n",
    "Z = Z[:-1:].reshape(len(srep[0]),len(srep[1]))\n",
    "Pol = Pol[:-1:].reshape(len(srep[0]),len(srep[1]))\n",
    "\n",
    "\n",
    "fig, (ax0, ax1) = plt.subplots(2, 1)\n",
    "\n",
    "ax0.pcolorfast((-10,10),(-10,10),np.array(Pol))\n",
    "ax1.pcolorfast((-10,10),(-10,10),np.array(Z))\n",
    "plt.show()"
   ],
   "metadata": {
    "collapsed": false,
    "pycharm": {
     "name": "#%%\n",
     "is_executing": false
    }
   }
  },
  {
   "cell_type": "code",
   "execution_count": null,
   "outputs": [],
   "source": [
    "\n"
   ],
   "metadata": {
    "collapsed": false,
    "pycharm": {
     "name": "#%%\n",
     "is_executing": false
    }
   }
  }
 ],
 "metadata": {
  "language_info": {
   "codemirror_mode": {
    "name": "ipython",
    "version": 2
   },
   "file_extension": ".py",
   "mimetype": "text/x-python",
   "name": "python",
   "nbconvert_exporter": "python",
   "pygments_lexer": "ipython2",
   "version": "2.7.6"
  },
  "kernelspec": {
   "name": "python3",
   "language": "python",
   "display_name": "Python 3"
  },
  "pycharm": {
   "stem_cell": {
    "cell_type": "raw",
    "source": [],
    "metadata": {
     "collapsed": false
    }
   }
  }
 },
 "nbformat": 4,
 "nbformat_minor": 0
}