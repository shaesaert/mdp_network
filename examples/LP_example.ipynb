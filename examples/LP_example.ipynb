{
 "cells": [
  {
   "cell_type": "code",
   "execution_count": 1,
   "outputs": [
    {
     "name": "stdout",
     "text": [
      "warning: mosek not found\n"
     ],
     "output_type": "stream"
    }
   ],
   "source": [
    "# Based on example 1 in Robust verification as a linear program. \n",
    "import numpy as np\n",
    "import sparse\n",
    "from best.models.pomdp import POMDP, POMDPNetwork\n",
    "from best.solvers.occupation_lp import *\n",
    "\n"
   ],
   "metadata": {
    "collapsed": false,
    "pycharm": {
     "name": "#%%\n",
     "is_executing": false
    }
   }
  },
  {
   "cell_type": "code",
   "execution_count": 2,
   "metadata": {
    "collapsed": true,
    "pycharm": {
     "is_executing": false
    }
   },
   "outputs": [
    {
     "name": "stdout",
     "text": [
      "finished after 0.02s and 12 iterations\n[array([[0.42857, 1.     ],\n       [0.     , 1.     ],\n       [1.     , 1.     ],\n       [0.     , 1.     ]]), array([[0., 1.],\n       [0., 1.],\n       [0., 1.],\n       [0., 1.]], dtype=float32)]\n[[[0.41667 0.33333 0.25    0.     ]\n  [0.      0.5     0.      0.5    ]\n  [0.      0.      1.      0.     ]\n  [0.      0.5     0.      0.5    ]]]\n[[[1. 0.]\n  [0. 1.]]\n\n [[0. 1.]\n  [0. 1.]]]\n[[ True  True False  True]\n [False False  True False]]\n"
     ],
     "output_type": "stream"
    }
   ],
   "source": [
    "network = POMDPNetwork()\n",
    "\n",
    "T0 = np.array([[5/12, 1/3, 1/4, 0],\n",
    "               [0, 1/2, 0, 0.5],\n",
    "               [0, 0, 1, 0],\n",
    "               [0, 1/2, 0 , 1/2]]);\n",
    "\n",
    "network.add_pomdp(POMDP([T0], input_names=['a'], state_name='s'))\n",
    "\n",
    "T0 = np.array([[1, 0],\n",
    "               [0, 1]]);\n",
    "T1 = np.array([[0, 1],\n",
    "               [0, 1]]);\n",
    "\n",
    "network.add_pomdp(POMDP([T0, T1], input_names=['l'], state_name='q'))\n",
    "\n",
    "network.add_connection(['s'], 'l', lambda s: {0: set([0]), 1: set([0]), 2: set([1]),  3: set([0])}[s])\n",
    "\n",
    "# Define target set\n",
    "accept = np.zeros((4,2))\n",
    "accept[:,1] = 1\n",
    "\n",
    "val_list, pol_list = solve_reach(network, accept)\n",
    "print(val_list)\n",
    "\n",
    "P_asS = diagonal(get_T_uxXz(network.pomdps['s']), 2, 3)\n",
    "print(P_asS.todense())\n",
    "P_lqQ = diagonal(get_T_uxXz(network.pomdps['q']), 2, 3)\n",
    "print(P_lqQ.todense())\n",
    "conn = network.connections[0][2]\n",
    "print(conn)"
   ]
  },
  {
   "cell_type": "code",
   "execution_count": 3,
   "outputs": [
    {
     "name": "stdout",
     "text": [
      "Academic license - for non-commercial use only\n",
      "0.42857142127290077\n[[[1.71429]\n  [1.14286]\n  [0.     ]\n  [0.     ]]]\n"
     ],
     "output_type": "stream"
    }
   ],
   "source": [
    "\n",
    "reach_prob, val2 = solve_robust(P_asS, P_lqQ, conn, s0=0, q0=0, q_target=1)\n",
    "np.testing.assert_almost_equal(reach_prob, val_list[0][0, 0],decimal=5)\n",
    "print(reach_prob)\n",
    "\n",
    "print(val2)\n"
   ],
   "metadata": {
    "collapsed": false,
    "pycharm": {
     "name": "#%%\n",
     "is_executing": false
    }
   }
  },
  {
   "cell_type": "code",
   "execution_count": 4,
   "outputs": [
    {
     "name": "stdout",
     "text": [
      "[[[1.71429]\n  [0.     ]\n  [0.     ]\n  [0.     ]]]\n[[[1.71429]\n  [0.     ]\n  [0.     ]\n  [0.     ]]]\n[[[1.71429]\n  [0.     ]\n  [0.     ]\n  [0.     ]]]\n[[[1.71429]\n  [0.     ]\n  [0.     ]\n  [0.     ]]]\n[[[1.71429]\n  [0.     ]\n  [0.     ]\n  [0.     ]]]\n[[[1.71429]\n  [0.     ]\n  [0.     ]\n  [0.     ]]]\n[[[1.71429]\n  [0.     ]\n  [0.     ]\n  [0.     ]]]\n[[[1.71429]\n  [0.     ]\n  [0.     ]\n  [0.     ]]]\n[[[1.71429]\n  [0.     ]\n  [0.     ]\n  [0.     ]]]\n[[[1.71429]\n  [0.     ]\n  [0.     ]\n  [0.     ]]]\n[[[1.71429]\n  [0.     ]\n  [0.     ]\n  [0.     ]]]\n[[[1.71429]\n  [0.     ]\n  [0.     ]\n  [0.     ]]]\n[[[1.71429]\n  [0.     ]\n  [0.     ]\n  [0.     ]]]\n[[[1.71429]\n  [0.     ]\n  [0.     ]\n  [0.     ]]]\n[[[1.71429]\n  [0.     ]\n  [0.     ]\n  [0.     ]]]\n[[[1.71429]\n  [0.     ]\n  [0.     ]\n  [0.     ]]]\n[[[0.]\n  [0.]\n  [0.]\n  [0.]]]\n[[[0.]\n  [0.]\n  [0.]\n  [0.]]]\n[[[0.]\n  [0.]\n  [0.]\n  [0.]]]\n",
      "[[[0.]\n  [0.]\n  [0.]\n  [0.]]]\n"
     ],
     "output_type": "stream"
    }
   ],
   "source": [
    "delt = []\n",
    "reach = []\n",
    "val = []\n",
    "for delta in np.linspace(0.01,0.3,20):\n",
    "    delt+= [delta]\n",
    "    reach_prob, val2 = solve_delta(P_asS, P_lqQ, conn,delta, s0=0, q0=0, q_target=1)\n",
    "    reach += [reach_prob]\n",
    "    val +=[val2]\n",
    "    print(val2)\n"
   ],
   "metadata": {
    "collapsed": false,
    "pycharm": {
     "name": "#%%\n",
     "is_executing": false
    }
   }
  },
  {
   "cell_type": "code",
   "execution_count": 4,
   "outputs": [
    {
     "traceback": [
      "\u001b[0;31m---------------------------------------------------------------------------\u001b[0m",
      "\u001b[0;31mNameError\u001b[0m                                 Traceback (most recent call last)",
      "\u001b[0;32m<ipython-input-4-45c1999b7115>\u001b[0m in \u001b[0;36m<module>\u001b[0;34m\u001b[0m\n\u001b[1;32m      1\u001b[0m \u001b[0;32mimport\u001b[0m \u001b[0mmatplotlib\u001b[0m\u001b[0;34m.\u001b[0m\u001b[0mpyplot\u001b[0m \u001b[0;32mas\u001b[0m \u001b[0mplt\u001b[0m\u001b[0;34m\u001b[0m\u001b[0;34m\u001b[0m\u001b[0m\n\u001b[0;32m----> 2\u001b[0;31m \u001b[0mplt\u001b[0m\u001b[0;34m.\u001b[0m\u001b[0mplot\u001b[0m\u001b[0;34m(\u001b[0m\u001b[0mdelt\u001b[0m\u001b[0;34m,\u001b[0m\u001b[0mreach\u001b[0m\u001b[0;34m)\u001b[0m\u001b[0;34m\u001b[0m\u001b[0;34m\u001b[0m\u001b[0m\n\u001b[0m\u001b[1;32m      3\u001b[0m \u001b[0mplt\u001b[0m\u001b[0;34m.\u001b[0m\u001b[0mylabel\u001b[0m\u001b[0;34m(\u001b[0m\u001b[0;34m'Robust reach probability'\u001b[0m\u001b[0;34m)\u001b[0m\u001b[0;34m\u001b[0m\u001b[0;34m\u001b[0m\u001b[0m\n\u001b[1;32m      4\u001b[0m \u001b[0;31m# plt.show()\u001b[0m\u001b[0;34m\u001b[0m\u001b[0;34m\u001b[0m\u001b[0;34m\u001b[0m\u001b[0m\n\u001b[1;32m      5\u001b[0m \u001b[0;32mimport\u001b[0m \u001b[0mmatplotlib2tikz\u001b[0m\u001b[0;34m\u001b[0m\u001b[0;34m\u001b[0m\u001b[0m\n",
      "\u001b[0;31mNameError\u001b[0m: name 'delt' is not defined"
     ],
     "ename": "NameError",
     "evalue": "name 'delt' is not defined",
     "output_type": "error"
    }
   ],
   "source": [
    "import matplotlib.pyplot as plt\n",
    "plt.plot(delt,reach)\n",
    "plt.ylabel('Robust reach probability')\n",
    "# plt.show()\n",
    "import matplotlib2tikz\n",
    "matplotlib2tikz.save(\"test.tex\")\n",
    "vals= np.array(val).reshape(20,4)\n",
    "plt.plot(delt,vals[::,0])\n",
    "plt.plot(delt,vals[::,1])\n",
    "\n",
    "plt.plot(delt,vals[::,2])\n",
    "\n",
    "plt.plot(delt,vals[::,3])\n",
    "\n",
    "plt.ylabel('Robust reach probability')\n",
    "plt.legend(['$P_\\delta$','x1','x2','x3','x4'])\n",
    "# plt.show()\n",
    "print(np.array(val).reshape(20,4))\n"
   ],
   "metadata": {
    "collapsed": false,
    "pycharm": {
     "name": "#%%\n",
     "is_executing": false
    }
   }
  },
  {
   "cell_type": "code",
   "execution_count": 1,
   "outputs": [
    {
     "name": "stdout",
     "text": [
      "Load robot model: Simple integrator model\n[[0.31623 0.     ]\n [0.      0.31623]]\n",
      "The synthesised formula is: ( ( ( !obst & !col ) U pac ) & ( !obst U col ) )\n-------Grid the robots state space------\n"
     ],
     "output_type": "stream"
    }
   ],
   "source": [
    "\n",
    "\n",
    "from Demos.demo_Models import simple_robot\n",
    "import polytope as pc\n",
    "import numpy as np\n",
    "\n",
    "Robot = simple_robot()  \n",
    "\n",
    "Robot.input_space = pc.box2poly(np.kron(np.ones((Robot.m, 1)), np.array([[-1, 1]])))  # continuous set of inputs\n",
    "Robot.state_space = pc.box2poly(np.kron(np.ones((Robot.dim, 1)), np.array([[-10, 10]])))  # X space\n",
    "\n",
    "\n",
    "from Demos.Robot_navigation import specify_robot\n",
    "from Controller.Specifications import Fsa\n",
    "\n",
    "# specify required behaviour\n",
    "formula, regions = specify_robot()  # type: dict\n",
    "\n",
    "fsaform = Fsa()  # this is a FSA , contains a digraph\n",
    "fsaform.from_formula(formula)  # given a more complex formula\n",
    "\n",
    "\n",
    "print(\"The synthesised formula is:\", formula)\n",
    "\n",
    "print(\"-------Grid the robots state space------\")\n",
    "#  set the state spaces:\n",
    "from Reduce.Gridding import grid as griddd\n",
    "\n",
    "\n",
    "d_opt = np.array([[0.69294], [0.721]])  # tuned gridding ratio from a previous paper\n",
    "d = 4 * d_opt  # with distance measure 0.6=default\n",
    "un = 3\n"
   ],
   "metadata": {
    "collapsed": false,
    "pycharm": {
     "name": "#%%\n",
     "is_executing": false
    }
   }
  },
  {
   "cell_type": "code",
   "execution_count": null,
   "outputs": [
    {
     "name": "stdout",
     "text": [
      "A matrix has shape: (2, 2)\n",
      "A matrix has shape: (2, 2)\n"
     ],
     "output_type": "stream"
    }
   ],
   "source": [
    "## real computations\n",
    "Ms, srep = griddd(Robot, d, un=un)\n",
    " "
   ],
   "metadata": {
    "collapsed": false,
    "pycharm": {
     "name": "#%%\n",
     "is_executing": true
    }
   }
  },
  {
   "cell_type": "code",
   "execution_count": null,
   "outputs": [],
   "source": [
    "# print(Ms.transition)\n",
    "from Controller.Robust import Robust_control\n",
    "\n",
    "ro_pol = Robust_control(Ms, fsaform, regions, 0.1, 0, M=None)\n",
    "print(ro_pol.mdp.transition)\n",
    "# ro_pol.init_V()\n",
    "#\n",
    "# number_of_backups = 40\n",
    "# for i in range(number_of_backups):\n",
    "#     ro_pol.back_up()  # do 40\n"
   ],
   "metadata": {
    "collapsed": false,
    "pycharm": {
     "name": "#%%\n"
    }
   }
  },
  {
   "cell_type": "code",
   "execution_count": 5,
   "outputs": [
    {
     "data": {
      "text/plain": "<Figure size 432x288 with 1 Axes>",
      "image/png": "[encoded data removed]"
     },
     "metadata": {
      "needs_background": "light"
     },
     "output_type": "display_data"
    }
   ],
   "source": [
    "import matplotlib.pyplot as plt\n",
    "import numpy as np\n",
    "plt.plot(np.linspace(0.0001, 0.05, 20),\n",
    "         np.array([0.9988015825936024,\n",
    "                   0.9673308349680869,\n",
    "                   0.9358596986225345, 0.9043885757283697, 0.8729177821452127, 0.8414466714726648, 0.8099756746650105, 0.7785046283755153,\n",
    "                   0.7470336135892648, 0.7155626633000725,\n",
    "                   0.684091534804651, 0.6526205881521279,\n",
    "                   0.6211494561306404, 0.5896785112343874, 0.5582075747944356,\n",
    "                   0.5267363813555599, 0.49526541661552426,\n",
    "                   0.4637944882501633, 0.43232333688252694,\n",
    "                   0.4008524088427438]))\n",
    "plt.ylabel('Robust reach probability')\n",
    "\n",
    "plt.show()"
   ],
   "metadata": {
    "collapsed": false,
    "pycharm": {
     "name": "#%%\n",
     "is_executing": false
    }
   }
  },
  {
   "cell_type": "code",
   "execution_count": null,
   "outputs": [],
   "source": [
    "\n"
   ],
   "metadata": {
    "collapsed": false,
    "pycharm": {
     "name": "#%%\n"
    }
   }
  }
 ],
 "metadata": {
  "language_info": {
   "codemirror_mode": {
    "name": "ipython",
    "version": 2
   },
   "file_extension": ".py",
   "mimetype": "text/x-python",
   "name": "python",
   "nbconvert_exporter": "python",
   "pygments_lexer": "ipython2",
   "version": "2.7.6"
  },
  "kernelspec": {
   "name": "python3",
   "language": "python",
   "display_name": "Python 3"
  },
  "pycharm": {
   "stem_cell": {
    "cell_type": "raw",
    "source": [],
    "metadata": {
     "collapsed": false
    }
   }
  }
 },
 "nbformat": 4,
 "nbformat_minor": 0
}