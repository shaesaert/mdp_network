{
 "cells": [
  {
   "cell_type": "markdown",
   "source": [
    "## Robot navigation \n",
    "\n",
    "**This file gives a simple robot navigation case study**"
   ],
   "metadata": {
    "collapsed": false
   }
  },
  {
   "cell_type": "markdown",
   "source": [
    "### Initialize the Robot Dynamics"
   ],
   "metadata": {
    "collapsed": false
   }
  },
  {
   "cell_type": "code",
   "execution_count": 1,
   "outputs": [
    {
     "name": "stdout",
     "text": [
      "Load robot model: Simple integrator model\n[[0.31623 0.     ]\n [0.      0.31623]]\n"
     ],
     "output_type": "stream"
    }
   ],
   "source": [
    "# load dynamics\n",
    "from Demos.demo_Models import simple_robot\n",
    "import polytope as pc\n",
    "import numpy as np\n",
    "\n",
    "Robot = simple_robot()  # type: \n",
    "\n",
    "Robot.input_space = pc.box2poly(np.kron(np.ones((Robot.m, 1)), np.array([[-1, 1]])))  # continuous set of inputs\n",
    "Robot.state_space = pc.box2poly(np.kron(np.ones((Robot.dim, 1)), np.array([[-10, 10]])))  # X space\n",
    " \n"
   ],
   "metadata": {
    "collapsed": false,
    "pycharm": {
     "name": "#%%\n",
     "is_executing": false
    }
   }
  },
  {
   "cell_type": "code",
   "execution_count": 2,
   "outputs": [
    {
     "name": "stdout",
     "text": [
      "warning: mosek not found\n------- start gridding -------\n",
      "# states\n757\n",
      "finished after 0.15s and 22 iterations\n",
      "Academic license - for non-commercial use only\n",
      "create empty model 0.018177032470703125\n",
      "added variables 13.784243106842041\nWarning for adding constraints: zero or small (< 1e-13) coefficients, ignored\n",
      "added constraints 33.76824402809143\nOptimize a model with 757 rows, 6813 columns and 169257 nonzeros\n",
      "Coefficient statistics:\n",
      "  Matrix range     [2e-13, 1e+00]\n",
      "  Objective range  [8e-04, 1e+00]\n",
      "  Bounds range     [0e+00, 0e+00]\n",
      "  RHS range        [1e+00, 1e+00]\n",
      "\n",
      "Concurrent LP optimizer: dual simplex and barrier\n",
      "Showing barrier log only...\n",
      "\n",
      "Presolve removed 244 rows and 2196 columns\n",
      "Presolve time: 0.13s\n",
      "Presolved: 513 rows, 4617 columns, 156765 nonzeros\n",
      "\n",
      "Ordering time: 0.00s\n",
      "\n",
      "Barrier statistics:\n",
      " AA' NZ     : 2.787e+04\n",
      " Factor NZ  : 6.216e+04 (roughly 3 MBytes of memory)\n",
      " Factor Ops : 8.472e+06 (less than 1 second per iteration)\n",
      " Threads    : 1\n",
      "\n",
      "                  Objective                Residual\n",
      "Iter       Primal          Dual         Primal    Dual     Compl     Time\n",
      "   0   1.94651077e+01  4.90458979e-03  1.72e+00 5.72e-01  3.97e-01     0s\n",
      "   1  -2.11416387e+00  1.16882699e+00  4.65e-01 2.02e-01  8.66e-02     0s\n",
      "   2  -1.11304659e+01  2.58763279e+00  5.07e-02 3.04e-02  1.27e-02     0s\n",
      "   3  -7.81672526e+00  1.84777433e+00  1.43e-02 2.13e-04  2.59e-03     0s\n",
      "   4  -1.94330357e+00  1.06977131e+00  4.16e-03 0.00e+00  7.25e-04     0s\n",
      "   5   2.68360144e-01  9.58582884e-01  6.50e-04 0.00e+00  1.60e-04     0s\n",
      "   6   7.68195144e-01  8.73601295e-01  3.38e-05 0.00e+00  2.33e-05     0s\n",
      "   7   8.42764474e-01  8.55061737e-01  2.42e-06 0.00e+00  2.70e-06     1s\n",
      "   8   8.51302820e-01  8.52487686e-01  1.06e-07 0.00e+00  2.58e-07     1s\n",
      "   9   8.52068109e-01  8.52156818e-01  4.63e-09 0.00e+00  1.93e-08     1s\n",
      "  10   8.52121211e-01  8.52130349e-01  3.68e-10 0.00e+00  1.98e-09     1s\n",
      "  11   8.52126706e-01  8.52127837e-01  2.61e-11 0.00e+00  2.45e-10     1s\n",
      "  12   8.52127204e-01  8.52127545e-01  4.85e-12 0.00e+00  7.39e-11     1s\n",
      "  13   8.52127320e-01  8.52127446e-01  1.49e-12 0.00e+00  2.74e-11     1s\n",
      "  14   8.52127352e-01  8.52127411e-01  9.14e-13 0.00e+00  1.28e-11     1s\n",
      "  15   8.52127365e-01  8.52127406e-01  6.15e-13 1.98e-16  8.86e-12     1s\n",
      "  16   8.52127375e-01  8.52127397e-01  4.97e-13 6.51e-16  4.65e-12     1s\n",
      "  17   8.52127388e-01  8.52127396e-01  4.69e-13 5.10e-16  1.76e-12     1s\n",
      "\n",
      "Barrier solved model in 17 iterations and 0.79 seconds\n",
      "Optimal objective 8.52127388e-01\n",
      "\n",
      "Crossover log...\n",
      "\n",
      "     233 DPushes remaining with DInf 9.0437116e-06                 1s\n",
      "       0 DPushes remaining with DInf 8.3530118e-11                 1s\n",
      "\n",
      "     542 PPushes remaining with PInf 1.8446926e-01                 1s\n",
      "       0 PPushes remaining with PInf 1.2542256e-02                 1s\n",
      "\n",
      "  Push phase complete: Pinf 1.2542256e-02, Dinf 5.9763040e+00      1s\n",
      "\n",
      "Iteration    Objective       Primal Inf.    Dual Inf.      Time\n",
      "     778    8.5212734e-01   0.000000e+00   5.976198e+00      1s\n",
      "     852    8.5212734e-01   0.000000e+00   0.000000e+00      1s\n",
      "\n",
      "Solved with barrier\n",
      "Solved in 852 iterations and 1.30 seconds\n",
      "Optimal objective  8.521273433e-01\n",
      "{'x': array([0., 0., 0., ..., 0., 0., 0.]), 'indices': array([[  0,   0,   0],\n       [  0,   1,   0],\n       [  0,   2,   0],\n       ...,\n       [  0, 754,   8],\n       [  0, 755,   8],\n       [  0, 756,   8]]), 'primal objective': 0.852127343305852, 'rcode': 2}\n[0.852127343305852]\n[35.14349913597107]\n"
     ],
     "output_type": "stream"
    }
   ],
   "source": [
    "from best.models.pomdp import POMDP, POMDPNetwork\n",
    "from best.models.pomdp_sparse_utils import get_T_uxXz, diagonal\n",
    "from best.solvers.occupation_lp_new import *\n",
    "from Reduce.Gridding import grid\n",
    "\n",
    "d_opt = np.array([[0.69294], [0.721]]) # tuned gridding ratio from a previous paper\n",
    " \n",
    "\n",
    "d = 1.1 * d_opt  # with distance measure 0.6=default\n",
    "un = 3\n",
    "\n",
    "Ms, srep  = grid(Robot, d, un=un)\n",
    "\n",
    "print('# states')\n",
    "print(len(Ms._state_space))\n",
    "network = POMDPNetwork()\n",
    "\n",
    "T00 = Ms.transition\n",
    "\n",
    "network.add_pomdp(POMDP(T00, input_names=['a'], state_name='s'))\n",
    "\n",
    "T0 = np.array([[1, 0],\n",
    "               [0, 1]]);\n",
    "T1 = np.array([[0, 1],\n",
    "               [0, 1]]);\n",
    "network.add_pomdp(POMDP([T0, T1], input_names=['l'], state_name='q'))\n",
    "Ms._state_space[-1] = (np.nan,np.nan)\n",
    "# (Ms._state_space[s][0] > 4)\n",
    "\n",
    "network.add_connection(['s'], 'l', lambda s: set([1]) if (Ms._state_space[s][0] > 4) else set([0]) )\n",
    "accept = np.zeros((T00.shape[1],2))\n",
    "accept[:,1] = 1\n",
    "\n",
    "val_list, pol_list = solve_reach(network, accept)\n",
    "Robotmdp = diagonal(get_T_uxXz(network.pomdps['s']), 2, 3)\n",
    "Robotdfa = diagonal(get_T_uxXz(network.pomdps['q']), 2, 3)\n",
    "conn = network.connections[0][2].transpose()\n",
    "\n",
    "t=time.time()\n",
    "delta = 0.01\n",
    "# reach_prob, val2 = solve_delta(self.mdp1, self.dfa1, conn, delta, s0=0, q0=0, q_target=1)\n",
    "strat = np.array([[0] * (Robotmdp.shape[2]), [1] * (Robotmdp.shape[2])]).transpose()\n",
    "strat = strat[conn]\n",
    "\n",
    "\n",
    "model, reach_prob = solve_ltl(Robotmdp.todense(), Robotdfa.todense(), strat, delta, s0=0, q0=0, q_target=1)\n",
    "# np.testing.assert_almost_equal(reach_prob['primal objective'], val_list[0][0, 0], decimal=5)\n",
    "print(reach_prob)\n",
    "print([reach_prob['primal objective']])\n",
    "print([time.time()-t])\n"
   ],
   "metadata": {
    "collapsed": false,
    "pycharm": {
     "name": "#%% Compute optimal policy based on occupation\n",
     "is_executing": false
    }
   }
  },
  {
   "cell_type": "code",
   "execution_count": 4,
   "outputs": [
    {
     "data": {
      "text/plain": "<matplotlib.figure.Figure at 0x11fd007f0>",
      "image/png": "[encoded data removed]"
     },
     "metadata": {
      "needs_background": "light"
     },
     "output_type": "display_data"
    }
   ],
   "source": [
    "import scipy.sparse\n",
    "import matplotlib.pyplot as plt\n",
    "\n",
    "m = scipy.sparse.coo_matrix((reach_prob['x'],(np.array(reach_prob['indices'])[::,1],np.array(reach_prob['indices'])[::,2])))\n",
    "Pol = m.argmax(1)\n",
    "Z = m.sum(1)\n",
    "Z = Z[:-1:].reshape(len(srep[0]),len(srep[1]))\n",
    "Pol = Pol[:-1:].reshape(len(srep[0]),len(srep[1]))\n",
    "\n",
    "\n",
    "fig, (ax0, ax1) = plt.subplots(2, 1)\n",
    "\n",
    "ax0.pcolorfast((-10,10),(-10,10),np.array(Pol))\n",
    "ax1.pcolorfast((-10,10),(-10,10),np.array(Z))\n",
    "# plt.show()\n",
    "plt.savefig('reach.eps', format='eps')\n"
   ],
   "metadata": {
    "collapsed": false,
    "pycharm": {
     "name": "#%%\n",
     "is_executing": false
    }
   }
  },
  {
   "cell_type": "code",
   "execution_count": 3,
   "outputs": [],
   "source": [
    "\n"
   ],
   "metadata": {
    "collapsed": false,
    "pycharm": {
     "name": "#%%\n",
     "is_executing": false
    }
   }
  }
 ],
 "metadata": {
  "language_info": {
   "codemirror_mode": {
    "name": "ipython",
    "version": 2
   },
   "file_extension": ".py",
   "mimetype": "text/x-python",
   "name": "python",
   "nbconvert_exporter": "python",
   "pygments_lexer": "ipython2",
   "version": "2.7.6"
  },
  "kernelspec": {
   "name": "python3",
   "language": "python",
   "display_name": "Python 3"
  },
  "pycharm": {
   "stem_cell": {
    "cell_type": "raw",
    "source": [],
    "metadata": {
     "collapsed": false
    }
   }
  }
 },
 "nbformat": 4,
 "nbformat_minor": 0
}